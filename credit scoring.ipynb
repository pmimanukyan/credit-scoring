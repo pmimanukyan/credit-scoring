{
 "cells": [
  {
   "cell_type": "code",
   "execution_count": 1,
   "metadata": {},
   "outputs": [],
   "source": [
    "import pandas as pd\n",
    "import seaborn as sns\n",
    "import numpy as np"
   ]
  },
  {
   "cell_type": "code",
   "execution_count": 2,
   "metadata": {},
   "outputs": [],
   "source": [
    "X_train = pd.read_csv(\"cmf-2022-bank-scoring-case/X_train.csv\")\n",
    "y_train = pd.read_csv(\"cmf-2022-bank-scoring-case/y_train.csv\")\n",
    "\n",
    "X_test = pd.read_csv(\"cmf-2022-bank-scoring-case/X_test.csv\")\n",
    "y_test = pd.read_csv(\"cmf-2022-bank-scoring-case/y_test_sample.csv\")"
   ]
  },
  {
   "cell_type": "code",
   "execution_count": 3,
   "metadata": {},
   "outputs": [
    {
     "data": {
      "text/html": [
       "<div>\n",
       "<style scoped>\n",
       "    .dataframe tbody tr th:only-of-type {\n",
       "        vertical-align: middle;\n",
       "    }\n",
       "\n",
       "    .dataframe tbody tr th {\n",
       "        vertical-align: top;\n",
       "    }\n",
       "\n",
       "    .dataframe thead th {\n",
       "        text-align: right;\n",
       "    }\n",
       "</style>\n",
       "<table border=\"1\" class=\"dataframe\">\n",
       "  <thead>\n",
       "    <tr style=\"text-align: right;\">\n",
       "      <th></th>\n",
       "      <th>credit_card_utilization</th>\n",
       "      <th>age</th>\n",
       "      <th>overdue_30_59_days</th>\n",
       "      <th>debt_to_income</th>\n",
       "      <th>monthly_income</th>\n",
       "      <th>credits_loans</th>\n",
       "      <th>overdue__more_than_90_days</th>\n",
       "      <th>mortgage_loans</th>\n",
       "      <th>overdue_60_89_days</th>\n",
       "      <th>family_members</th>\n",
       "    </tr>\n",
       "  </thead>\n",
       "  <tbody>\n",
       "    <tr>\n",
       "      <th>0</th>\n",
       "      <td>0.000000</td>\n",
       "      <td>56</td>\n",
       "      <td>0</td>\n",
       "      <td>0.504328</td>\n",
       "      <td>6823.894458</td>\n",
       "      <td>9</td>\n",
       "      <td>0</td>\n",
       "      <td>1</td>\n",
       "      <td>0</td>\n",
       "      <td>5.0</td>\n",
       "    </tr>\n",
       "    <tr>\n",
       "      <th>1</th>\n",
       "      <td>0.170659</td>\n",
       "      <td>45</td>\n",
       "      <td>1</td>\n",
       "      <td>2.405860</td>\n",
       "      <td>356.580765</td>\n",
       "      <td>5</td>\n",
       "      <td>0</td>\n",
       "      <td>0</td>\n",
       "      <td>0</td>\n",
       "      <td>0.0</td>\n",
       "    </tr>\n",
       "    <tr>\n",
       "      <th>2</th>\n",
       "      <td>0.342176</td>\n",
       "      <td>75</td>\n",
       "      <td>1</td>\n",
       "      <td>0.445066</td>\n",
       "      <td>20349.895825</td>\n",
       "      <td>9</td>\n",
       "      <td>0</td>\n",
       "      <td>3</td>\n",
       "      <td>0</td>\n",
       "      <td>0.0</td>\n",
       "    </tr>\n",
       "    <tr>\n",
       "      <th>3</th>\n",
       "      <td>0.046219</td>\n",
       "      <td>50</td>\n",
       "      <td>0</td>\n",
       "      <td>0.814508</td>\n",
       "      <td>2894.368968</td>\n",
       "      <td>12</td>\n",
       "      <td>0</td>\n",
       "      <td>1</td>\n",
       "      <td>0</td>\n",
       "      <td>3.0</td>\n",
       "    </tr>\n",
       "    <tr>\n",
       "      <th>4</th>\n",
       "      <td>0.679556</td>\n",
       "      <td>58</td>\n",
       "      <td>0</td>\n",
       "      <td>0.390311</td>\n",
       "      <td>24833.227614</td>\n",
       "      <td>15</td>\n",
       "      <td>0</td>\n",
       "      <td>4</td>\n",
       "      <td>0</td>\n",
       "      <td>2.0</td>\n",
       "    </tr>\n",
       "    <tr>\n",
       "      <th>...</th>\n",
       "      <td>...</td>\n",
       "      <td>...</td>\n",
       "      <td>...</td>\n",
       "      <td>...</td>\n",
       "      <td>...</td>\n",
       "      <td>...</td>\n",
       "      <td>...</td>\n",
       "      <td>...</td>\n",
       "      <td>...</td>\n",
       "      <td>...</td>\n",
       "    </tr>\n",
       "    <tr>\n",
       "      <th>105104</th>\n",
       "      <td>0.017608</td>\n",
       "      <td>62</td>\n",
       "      <td>0</td>\n",
       "      <td>0.184589</td>\n",
       "      <td>9928.125255</td>\n",
       "      <td>6</td>\n",
       "      <td>0</td>\n",
       "      <td>2</td>\n",
       "      <td>0</td>\n",
       "      <td>0.0</td>\n",
       "    </tr>\n",
       "    <tr>\n",
       "      <th>105105</th>\n",
       "      <td>0.980631</td>\n",
       "      <td>25</td>\n",
       "      <td>0</td>\n",
       "      <td>0.158753</td>\n",
       "      <td>2187.355843</td>\n",
       "      <td>3</td>\n",
       "      <td>0</td>\n",
       "      <td>0</td>\n",
       "      <td>0</td>\n",
       "      <td>0.0</td>\n",
       "    </tr>\n",
       "    <tr>\n",
       "      <th>105106</th>\n",
       "      <td>0.050256</td>\n",
       "      <td>73</td>\n",
       "      <td>1</td>\n",
       "      <td>0.849711</td>\n",
       "      <td>3961.841113</td>\n",
       "      <td>12</td>\n",
       "      <td>0</td>\n",
       "      <td>2</td>\n",
       "      <td>0</td>\n",
       "      <td>0.0</td>\n",
       "    </tr>\n",
       "    <tr>\n",
       "      <th>105107</th>\n",
       "      <td>0.447882</td>\n",
       "      <td>43</td>\n",
       "      <td>0</td>\n",
       "      <td>0.068033</td>\n",
       "      <td>3705.546719</td>\n",
       "      <td>4</td>\n",
       "      <td>0</td>\n",
       "      <td>0</td>\n",
       "      <td>1</td>\n",
       "      <td>0.0</td>\n",
       "    </tr>\n",
       "    <tr>\n",
       "      <th>105108</th>\n",
       "      <td>0.563791</td>\n",
       "      <td>50</td>\n",
       "      <td>1</td>\n",
       "      <td>0.285641</td>\n",
       "      <td>6660.238215</td>\n",
       "      <td>13</td>\n",
       "      <td>0</td>\n",
       "      <td>3</td>\n",
       "      <td>0</td>\n",
       "      <td>1.0</td>\n",
       "    </tr>\n",
       "  </tbody>\n",
       "</table>\n",
       "<p>105109 rows × 10 columns</p>\n",
       "</div>"
      ],
      "text/plain": [
       "        credit_card_utilization  age  overdue_30_59_days  debt_to_income  \\\n",
       "0                      0.000000   56                   0        0.504328   \n",
       "1                      0.170659   45                   1        2.405860   \n",
       "2                      0.342176   75                   1        0.445066   \n",
       "3                      0.046219   50                   0        0.814508   \n",
       "4                      0.679556   58                   0        0.390311   \n",
       "...                         ...  ...                 ...             ...   \n",
       "105104                 0.017608   62                   0        0.184589   \n",
       "105105                 0.980631   25                   0        0.158753   \n",
       "105106                 0.050256   73                   1        0.849711   \n",
       "105107                 0.447882   43                   0        0.068033   \n",
       "105108                 0.563791   50                   1        0.285641   \n",
       "\n",
       "        monthly_income  credits_loans  overdue__more_than_90_days  \\\n",
       "0          6823.894458              9                           0   \n",
       "1           356.580765              5                           0   \n",
       "2         20349.895825              9                           0   \n",
       "3          2894.368968             12                           0   \n",
       "4         24833.227614             15                           0   \n",
       "...                ...            ...                         ...   \n",
       "105104     9928.125255              6                           0   \n",
       "105105     2187.355843              3                           0   \n",
       "105106     3961.841113             12                           0   \n",
       "105107     3705.546719              4                           0   \n",
       "105108     6660.238215             13                           0   \n",
       "\n",
       "        mortgage_loans  overdue_60_89_days  family_members  \n",
       "0                    1                   0             5.0  \n",
       "1                    0                   0             0.0  \n",
       "2                    3                   0             0.0  \n",
       "3                    1                   0             3.0  \n",
       "4                    4                   0             2.0  \n",
       "...                ...                 ...             ...  \n",
       "105104               2                   0             0.0  \n",
       "105105               0                   0             0.0  \n",
       "105106               2                   0             0.0  \n",
       "105107               0                   1             0.0  \n",
       "105108               3                   0             1.0  \n",
       "\n",
       "[105109 rows x 10 columns]"
      ]
     },
     "execution_count": 3,
     "metadata": {},
     "output_type": "execute_result"
    }
   ],
   "source": [
    "X_train"
   ]
  },
  {
   "cell_type": "code",
   "execution_count": 4,
   "metadata": {},
   "outputs": [
    {
     "data": {
      "text/html": [
       "<div>\n",
       "<style scoped>\n",
       "    .dataframe tbody tr th:only-of-type {\n",
       "        vertical-align: middle;\n",
       "    }\n",
       "\n",
       "    .dataframe tbody tr th {\n",
       "        vertical-align: top;\n",
       "    }\n",
       "\n",
       "    .dataframe thead th {\n",
       "        text-align: right;\n",
       "    }\n",
       "</style>\n",
       "<table border=\"1\" class=\"dataframe\">\n",
       "  <thead>\n",
       "    <tr style=\"text-align: right;\">\n",
       "      <th></th>\n",
       "      <th>target</th>\n",
       "    </tr>\n",
       "  </thead>\n",
       "  <tbody>\n",
       "    <tr>\n",
       "      <th>0</th>\n",
       "      <td>0</td>\n",
       "    </tr>\n",
       "    <tr>\n",
       "      <th>1</th>\n",
       "      <td>0</td>\n",
       "    </tr>\n",
       "    <tr>\n",
       "      <th>2</th>\n",
       "      <td>0</td>\n",
       "    </tr>\n",
       "    <tr>\n",
       "      <th>3</th>\n",
       "      <td>0</td>\n",
       "    </tr>\n",
       "    <tr>\n",
       "      <th>4</th>\n",
       "      <td>0</td>\n",
       "    </tr>\n",
       "    <tr>\n",
       "      <th>...</th>\n",
       "      <td>...</td>\n",
       "    </tr>\n",
       "    <tr>\n",
       "      <th>105104</th>\n",
       "      <td>0</td>\n",
       "    </tr>\n",
       "    <tr>\n",
       "      <th>105105</th>\n",
       "      <td>0</td>\n",
       "    </tr>\n",
       "    <tr>\n",
       "      <th>105106</th>\n",
       "      <td>0</td>\n",
       "    </tr>\n",
       "    <tr>\n",
       "      <th>105107</th>\n",
       "      <td>0</td>\n",
       "    </tr>\n",
       "    <tr>\n",
       "      <th>105108</th>\n",
       "      <td>0</td>\n",
       "    </tr>\n",
       "  </tbody>\n",
       "</table>\n",
       "<p>105109 rows × 1 columns</p>\n",
       "</div>"
      ],
      "text/plain": [
       "        target\n",
       "0            0\n",
       "1            0\n",
       "2            0\n",
       "3            0\n",
       "4            0\n",
       "...        ...\n",
       "105104       0\n",
       "105105       0\n",
       "105106       0\n",
       "105107       0\n",
       "105108       0\n",
       "\n",
       "[105109 rows x 1 columns]"
      ]
     },
     "execution_count": 4,
     "metadata": {},
     "output_type": "execute_result"
    }
   ],
   "source": [
    "y_train"
   ]
  },
  {
   "cell_type": "code",
   "execution_count": 5,
   "metadata": {},
   "outputs": [
    {
     "data": {
      "text/plain": [
       "target\n",
       "0         0.933108\n",
       "1         0.066892\n",
       "dtype: float64"
      ]
     },
     "execution_count": 5,
     "metadata": {},
     "output_type": "execute_result"
    }
   ],
   "source": [
    "y_train.value_counts(normalize=True)"
   ]
  },
  {
   "cell_type": "code",
   "execution_count": 6,
   "metadata": {},
   "outputs": [
    {
     "data": {
      "text/html": [
       "<div>\n",
       "<style scoped>\n",
       "    .dataframe tbody tr th:only-of-type {\n",
       "        vertical-align: middle;\n",
       "    }\n",
       "\n",
       "    .dataframe tbody tr th {\n",
       "        vertical-align: top;\n",
       "    }\n",
       "\n",
       "    .dataframe thead th {\n",
       "        text-align: right;\n",
       "    }\n",
       "</style>\n",
       "<table border=\"1\" class=\"dataframe\">\n",
       "  <thead>\n",
       "    <tr style=\"text-align: right;\">\n",
       "      <th></th>\n",
       "      <th>credit_card_utilization</th>\n",
       "      <th>age</th>\n",
       "      <th>overdue_30_59_days</th>\n",
       "      <th>debt_to_income</th>\n",
       "      <th>monthly_income</th>\n",
       "      <th>credits_loans</th>\n",
       "      <th>overdue__more_than_90_days</th>\n",
       "      <th>mortgage_loans</th>\n",
       "      <th>overdue_60_89_days</th>\n",
       "      <th>family_members</th>\n",
       "    </tr>\n",
       "  </thead>\n",
       "  <tbody>\n",
       "    <tr>\n",
       "      <th>0</th>\n",
       "      <td>0.000000</td>\n",
       "      <td>56</td>\n",
       "      <td>0</td>\n",
       "      <td>0.504328</td>\n",
       "      <td>6823.894458</td>\n",
       "      <td>9</td>\n",
       "      <td>0</td>\n",
       "      <td>1</td>\n",
       "      <td>0</td>\n",
       "      <td>5.0</td>\n",
       "    </tr>\n",
       "    <tr>\n",
       "      <th>1</th>\n",
       "      <td>0.170659</td>\n",
       "      <td>45</td>\n",
       "      <td>1</td>\n",
       "      <td>2.405860</td>\n",
       "      <td>356.580765</td>\n",
       "      <td>5</td>\n",
       "      <td>0</td>\n",
       "      <td>0</td>\n",
       "      <td>0</td>\n",
       "      <td>0.0</td>\n",
       "    </tr>\n",
       "    <tr>\n",
       "      <th>2</th>\n",
       "      <td>0.342176</td>\n",
       "      <td>75</td>\n",
       "      <td>1</td>\n",
       "      <td>0.445066</td>\n",
       "      <td>20349.895825</td>\n",
       "      <td>9</td>\n",
       "      <td>0</td>\n",
       "      <td>3</td>\n",
       "      <td>0</td>\n",
       "      <td>0.0</td>\n",
       "    </tr>\n",
       "    <tr>\n",
       "      <th>3</th>\n",
       "      <td>0.046219</td>\n",
       "      <td>50</td>\n",
       "      <td>0</td>\n",
       "      <td>0.814508</td>\n",
       "      <td>2894.368968</td>\n",
       "      <td>12</td>\n",
       "      <td>0</td>\n",
       "      <td>1</td>\n",
       "      <td>0</td>\n",
       "      <td>3.0</td>\n",
       "    </tr>\n",
       "    <tr>\n",
       "      <th>4</th>\n",
       "      <td>0.679556</td>\n",
       "      <td>58</td>\n",
       "      <td>0</td>\n",
       "      <td>0.390311</td>\n",
       "      <td>24833.227614</td>\n",
       "      <td>15</td>\n",
       "      <td>0</td>\n",
       "      <td>4</td>\n",
       "      <td>0</td>\n",
       "      <td>2.0</td>\n",
       "    </tr>\n",
       "    <tr>\n",
       "      <th>...</th>\n",
       "      <td>...</td>\n",
       "      <td>...</td>\n",
       "      <td>...</td>\n",
       "      <td>...</td>\n",
       "      <td>...</td>\n",
       "      <td>...</td>\n",
       "      <td>...</td>\n",
       "      <td>...</td>\n",
       "      <td>...</td>\n",
       "      <td>...</td>\n",
       "    </tr>\n",
       "    <tr>\n",
       "      <th>105104</th>\n",
       "      <td>0.017608</td>\n",
       "      <td>62</td>\n",
       "      <td>0</td>\n",
       "      <td>0.184589</td>\n",
       "      <td>9928.125255</td>\n",
       "      <td>6</td>\n",
       "      <td>0</td>\n",
       "      <td>2</td>\n",
       "      <td>0</td>\n",
       "      <td>0.0</td>\n",
       "    </tr>\n",
       "    <tr>\n",
       "      <th>105105</th>\n",
       "      <td>0.980631</td>\n",
       "      <td>25</td>\n",
       "      <td>0</td>\n",
       "      <td>0.158753</td>\n",
       "      <td>2187.355843</td>\n",
       "      <td>3</td>\n",
       "      <td>0</td>\n",
       "      <td>0</td>\n",
       "      <td>0</td>\n",
       "      <td>0.0</td>\n",
       "    </tr>\n",
       "    <tr>\n",
       "      <th>105106</th>\n",
       "      <td>0.050256</td>\n",
       "      <td>73</td>\n",
       "      <td>1</td>\n",
       "      <td>0.849711</td>\n",
       "      <td>3961.841113</td>\n",
       "      <td>12</td>\n",
       "      <td>0</td>\n",
       "      <td>2</td>\n",
       "      <td>0</td>\n",
       "      <td>0.0</td>\n",
       "    </tr>\n",
       "    <tr>\n",
       "      <th>105107</th>\n",
       "      <td>0.447882</td>\n",
       "      <td>43</td>\n",
       "      <td>0</td>\n",
       "      <td>0.068033</td>\n",
       "      <td>3705.546719</td>\n",
       "      <td>4</td>\n",
       "      <td>0</td>\n",
       "      <td>0</td>\n",
       "      <td>1</td>\n",
       "      <td>0.0</td>\n",
       "    </tr>\n",
       "    <tr>\n",
       "      <th>105108</th>\n",
       "      <td>0.563791</td>\n",
       "      <td>50</td>\n",
       "      <td>1</td>\n",
       "      <td>0.285641</td>\n",
       "      <td>6660.238215</td>\n",
       "      <td>13</td>\n",
       "      <td>0</td>\n",
       "      <td>3</td>\n",
       "      <td>0</td>\n",
       "      <td>1.0</td>\n",
       "    </tr>\n",
       "  </tbody>\n",
       "</table>\n",
       "<p>105109 rows × 10 columns</p>\n",
       "</div>"
      ],
      "text/plain": [
       "        credit_card_utilization  age  overdue_30_59_days  debt_to_income  \\\n",
       "0                      0.000000   56                   0        0.504328   \n",
       "1                      0.170659   45                   1        2.405860   \n",
       "2                      0.342176   75                   1        0.445066   \n",
       "3                      0.046219   50                   0        0.814508   \n",
       "4                      0.679556   58                   0        0.390311   \n",
       "...                         ...  ...                 ...             ...   \n",
       "105104                 0.017608   62                   0        0.184589   \n",
       "105105                 0.980631   25                   0        0.158753   \n",
       "105106                 0.050256   73                   1        0.849711   \n",
       "105107                 0.447882   43                   0        0.068033   \n",
       "105108                 0.563791   50                   1        0.285641   \n",
       "\n",
       "        monthly_income  credits_loans  overdue__more_than_90_days  \\\n",
       "0          6823.894458              9                           0   \n",
       "1           356.580765              5                           0   \n",
       "2         20349.895825              9                           0   \n",
       "3          2894.368968             12                           0   \n",
       "4         24833.227614             15                           0   \n",
       "...                ...            ...                         ...   \n",
       "105104     9928.125255              6                           0   \n",
       "105105     2187.355843              3                           0   \n",
       "105106     3961.841113             12                           0   \n",
       "105107     3705.546719              4                           0   \n",
       "105108     6660.238215             13                           0   \n",
       "\n",
       "        mortgage_loans  overdue_60_89_days  family_members  \n",
       "0                    1                   0             5.0  \n",
       "1                    0                   0             0.0  \n",
       "2                    3                   0             0.0  \n",
       "3                    1                   0             3.0  \n",
       "4                    4                   0             2.0  \n",
       "...                ...                 ...             ...  \n",
       "105104               2                   0             0.0  \n",
       "105105               0                   0             0.0  \n",
       "105106               2                   0             0.0  \n",
       "105107               0                   1             0.0  \n",
       "105108               3                   0             1.0  \n",
       "\n",
       "[105109 rows x 10 columns]"
      ]
     },
     "execution_count": 6,
     "metadata": {},
     "output_type": "execute_result"
    }
   ],
   "source": [
    "X_train"
   ]
  },
  {
   "cell_type": "code",
   "execution_count": 7,
   "metadata": {},
   "outputs": [
    {
     "name": "stdout",
     "output_type": "stream",
     "text": [
      "<class 'pandas.core.frame.DataFrame'>\n",
      "RangeIndex: 105109 entries, 0 to 105108\n",
      "Data columns (total 10 columns):\n",
      " #   Column                      Non-Null Count   Dtype  \n",
      "---  ------                      --------------   -----  \n",
      " 0   credit_card_utilization     105109 non-null  float64\n",
      " 1   age                         105109 non-null  int64  \n",
      " 2   overdue_30_59_days          105109 non-null  int64  \n",
      " 3   debt_to_income              105109 non-null  float64\n",
      " 4   monthly_income              84116 non-null   float64\n",
      " 5   credits_loans               105109 non-null  int64  \n",
      " 6   overdue__more_than_90_days  105109 non-null  int64  \n",
      " 7   mortgage_loans              105109 non-null  int64  \n",
      " 8   overdue_60_89_days          105109 non-null  int64  \n",
      " 9   family_members              102304 non-null  float64\n",
      "dtypes: float64(4), int64(6)\n",
      "memory usage: 8.0 MB\n"
     ]
    }
   ],
   "source": [
    "X_train.info()"
   ]
  },
  {
   "cell_type": "code",
   "execution_count": 8,
   "metadata": {},
   "outputs": [],
   "source": [
    "X_train['y'] = y_train['target']"
   ]
  },
  {
   "cell_type": "code",
   "execution_count": 9,
   "metadata": {},
   "outputs": [
    {
     "data": {
      "text/plain": [
       "<seaborn.axisgrid.FacetGrid at 0x10e463670>"
      ]
     },
     "execution_count": 9,
     "metadata": {},
     "output_type": "execute_result"
    },
    {
     "data": {
      "image/png": "[encoded data removed]",
      "text/plain": [
       "<Figure size 500x500 with 1 Axes>"
      ]
     },
     "metadata": {},
     "output_type": "display_data"
    }
   ],
   "source": [
    "sns.displot(np.log1p(X_train['monthly_income']))"
   ]
  },
  {
   "cell_type": "code",
   "execution_count": 10,
   "metadata": {},
   "outputs": [
    {
     "data": {
      "text/plain": [
       "(105109, 11)"
      ]
     },
     "execution_count": 10,
     "metadata": {},
     "output_type": "execute_result"
    }
   ],
   "source": [
    "X_train.shape"
   ]
  },
  {
   "attachments": {},
   "cell_type": "markdown",
   "metadata": {},
   "source": [
    "let's remove tails:"
   ]
  },
  {
   "cell_type": "code",
   "execution_count": 11,
   "metadata": {},
   "outputs": [],
   "source": [
    "X_train = X_train[(np.log1p(X_train['monthly_income']).quantile(0.05) < np.log1p(X_train['monthly_income'])) & (np.log1p(X_train['monthly_income']) < np.log1p(X_train['monthly_income']).quantile(0.99))]"
   ]
  },
  {
   "cell_type": "code",
   "execution_count": 12,
   "metadata": {},
   "outputs": [
    {
     "data": {
      "text/plain": [
       "(79068, 11)"
      ]
     },
     "execution_count": 12,
     "metadata": {},
     "output_type": "execute_result"
    }
   ],
   "source": [
    "X_train.shape"
   ]
  },
  {
   "cell_type": "code",
   "execution_count": 13,
   "metadata": {},
   "outputs": [
    {
     "data": {
      "text/plain": [
       "<seaborn.axisgrid.FacetGrid at 0x1303375b0>"
      ]
     },
     "execution_count": 13,
     "metadata": {},
     "output_type": "execute_result"
    },
    {
     "data": {
      "image/png": "[encoded data removed]",
      "text/plain": [
       "<Figure size 500x500 with 1 Axes>"
      ]
     },
     "metadata": {},
     "output_type": "display_data"
    }
   ],
   "source": [
    "sns.displot(np.log1p(X_train['monthly_income']))"
   ]
  },
  {
   "cell_type": "code",
   "execution_count": 14,
   "metadata": {},
   "outputs": [
    {
     "data": {
      "text/plain": [
       "0"
      ]
     },
     "execution_count": 14,
     "metadata": {},
     "output_type": "execute_result"
    }
   ],
   "source": [
    "X_train.isnull().sum().sum()"
   ]
  },
  {
   "cell_type": "code",
   "execution_count": 15,
   "metadata": {},
   "outputs": [],
   "source": [
    "y_train = X_train['y']\n",
    "X_train = X_train.drop('y', axis=1)"
   ]
  },
  {
   "cell_type": "code",
   "execution_count": 16,
   "metadata": {},
   "outputs": [],
   "source": [
    "from sklearn.model_selection import train_test_split\n",
    "X_train, X_val, y_train, y_val = train_test_split(X_train, y_train, test_size=0.33, random_state=42)"
   ]
  },
  {
   "attachments": {},
   "cell_type": "markdown",
   "metadata": {},
   "source": [
    "1. Naive Bayes\n",
    "2. Logistic Regression\n",
    "3. K-Nearest Neighbours\n",
    "4. Support Vector Machine\n",
    "5. Decision Tree\n",
    "6. Bagging Decision Tree (Ensemble Learning I)\n",
    "7. Boosted Decision Tree (Ensemble Learning II)\n",
    "8. Random Forest (Ensemble Learning III)\n",
    "9. Neural Network (Deep Learning)"
   ]
  },
  {
   "cell_type": "code",
   "execution_count": 17,
   "metadata": {},
   "outputs": [],
   "source": [
    "from sklearn.preprocessing import StandardScaler\n",
    "from sklearn.pipeline import Pipeline\n",
    "from sklearn.metrics import roc_auc_score"
   ]
  },
  {
   "attachments": {},
   "cell_type": "markdown",
   "metadata": {},
   "source": [
    "1. Naive Bayes (Gaussian Naive Bayes)"
   ]
  },
  {
   "cell_type": "code",
   "execution_count": 19,
   "metadata": {},
   "outputs": [
    {
     "name": "stdout",
     "output_type": "stream",
     "text": [
      "Train score = 0.7386313621180627\n",
      "Test score = 0.7467121669092567\n"
     ]
    }
   ],
   "source": [
    "from sklearn.naive_bayes import GaussianNB\n",
    "pipe = Pipeline([\n",
    "    ('scaler', StandardScaler()),\n",
    "    ('logreg', GaussianNB())])\n",
    "\n",
    "pipe.fit(X_train, y_train)\n",
    "y_train_proba = pipe.predict_proba(X_train)[:,1]\n",
    "y_pred_proba = pipe.predict_proba(X_val)[:,1]\n",
    "\n",
    "print(f\"Train score = {roc_auc_score(y_train, y_train_proba)}\")\n",
    "print(f\"Test score = {roc_auc_score(y_val, y_pred_proba)}\")"
   ]
  },
  {
   "attachments": {},
   "cell_type": "markdown",
   "metadata": {},
   "source": [
    "2. Logistic Regression"
   ]
  },
  {
   "cell_type": "code",
   "execution_count": 20,
   "metadata": {},
   "outputs": [
    {
     "name": "stdout",
     "output_type": "stream",
     "text": [
      "Train score = 0.7000694248446074\n",
      "Test score = 0.6972438523135848\n"
     ]
    }
   ],
   "source": [
    "from sklearn.linear_model import LogisticRegression\n",
    "pipe = Pipeline([\n",
    "    ('scaler', StandardScaler()),\n",
    "    ('LogisticRegression', LogisticRegression())])\n",
    "\n",
    "pipe.fit(X_train, y_train)\n",
    "y_train_proba = pipe.predict_proba(X_train)[:,1]\n",
    "y_pred_proba = pipe.predict_proba(X_val)[:,1]\n",
    "\n",
    "print(f\"Train score = {roc_auc_score(y_train, y_train_proba)}\")\n",
    "print(f\"Test score = {roc_auc_score(y_val, y_pred_proba)}\")"
   ]
  },
  {
   "attachments": {},
   "cell_type": "markdown",
   "metadata": {},
   "source": [
    "3. K-Nearest Neighbours"
   ]
  },
  {
   "cell_type": "code",
   "execution_count": 132,
   "metadata": {},
   "outputs": [],
   "source": [
    "from sklearn.neighbors import KNeighborsClassifier"
   ]
  },
  {
   "cell_type": "code",
   "execution_count": 137,
   "metadata": {},
   "outputs": [
    {
     "name": "stdout",
     "output_type": "stream",
     "text": [
      "Train score = 0.9809623889195355\n",
      "Test score = 0.6127720327388437\n"
     ]
    }
   ],
   "source": [
    "pipe = Pipeline([\n",
    "    ('scaler', StandardScaler()),\n",
    "    ('KNeighborsClassifier', KNeighborsClassifier(n_neighbors=2))])\n",
    "\n",
    "pipe.fit(X_train, y_train)\n",
    "\n",
    "y_train_proba = pipe.predict_proba(X_train)[:,1]\n",
    "y_pred_proba = pipe.predict_proba(X_val)[:,1]\n",
    "\n",
    "print(f\"Train score = {roc_auc_score(y_train, y_train_proba)}\")\n",
    "print(f\"Test score = {roc_auc_score(y_val, y_pred_proba)}\")"
   ]
  },
  {
   "attachments": {},
   "cell_type": "markdown",
   "metadata": {},
   "source": [
    "4. Support Vector Machine "
   ]
  },
  {
   "cell_type": "code",
   "execution_count": 44,
   "metadata": {},
   "outputs": [],
   "source": [
    "def softmax(x):\n",
    "    \"\"\"Compute softmax values for each sets of scores in x.\"\"\"\n",
    "    e_x = np.exp(x - np.max(x))\n",
    "    return e_x / e_x.sum(axis=0)"
   ]
  },
  {
   "cell_type": "code",
   "execution_count": 46,
   "metadata": {},
   "outputs": [
    {
     "name": "stdout",
     "output_type": "stream",
     "text": [
      "Train score = 0.7075776985818178\n",
      "Test score = 0.6640203960464951\n"
     ]
    }
   ],
   "source": [
    "from sklearn.svm import SVC\n",
    "pipe = Pipeline([\n",
    "    ('scaler', StandardScaler()),\n",
    "    ('SVC', SVC(probability=True))])\n",
    "\n",
    "pipe.fit(X_train, y_train)\n",
    "\n",
    "y_train_proba = pipe.predict_proba(X_train)[:,1]\n",
    "y_pred_proba = pipe.predict_proba(X_val)[:,1]\n",
    "\n",
    "print(f\"Train score = {roc_auc_score(y_train, y_train_proba)}\")\n",
    "print(f\"Test score = {roc_auc_score(y_val, y_pred_proba)}\")"
   ]
  },
  {
   "cell_type": "markdown",
   "metadata": {},
   "source": [
    "5. Decision Tree"
   ]
  },
  {
   "cell_type": "code",
   "execution_count": 22,
   "metadata": {},
   "outputs": [
    {
     "name": "stdout",
     "output_type": "stream",
     "text": [
      "Train score = 1.0\n",
      "Test score = 0.604615455841177\n"
     ]
    }
   ],
   "source": [
    "from sklearn.tree import DecisionTreeClassifier\n",
    "pipe = Pipeline([\n",
    "    ('scaler', StandardScaler()),\n",
    "    ('DecisionTreeClassifier', DecisionTreeClassifier())])\n",
    "\n",
    "pipe.fit(X_train, y_train)\n",
    "y_train_proba = pipe.predict_proba(X_train)[:,1]\n",
    "y_pred_proba = pipe.predict_proba(X_val)[:,1]\n",
    "\n",
    "print(f\"Train score = {roc_auc_score(y_train, y_train_proba)}\")\n",
    "print(f\"Test score = {roc_auc_score(y_val, y_pred_proba)}\")"
   ]
  },
  {
   "attachments": {},
   "cell_type": "markdown",
   "metadata": {},
   "source": [
    "6. Bagging Decision Tree (Ensemble Learning I)"
   ]
  },
  {
   "cell_type": "code",
   "execution_count": 23,
   "metadata": {},
   "outputs": [
    {
     "name": "stdout",
     "output_type": "stream",
     "text": [
      "Train score = 0.999583956769996\n",
      "Test score = 0.7642710220587947\n"
     ]
    }
   ],
   "source": [
    "from sklearn.ensemble import BaggingClassifier\n",
    "pipe = Pipeline([\n",
    "    ('scaler', StandardScaler()),\n",
    "    ('Bagging Decision Tree', BaggingClassifier(base_estimator=DecisionTreeClassifier()))])\n",
    "\n",
    "pipe.fit(X_train, y_train)\n",
    "y_train_proba = pipe.predict_proba(X_train)[:,1]\n",
    "y_pred_proba = pipe.predict_proba(X_val)[:,1]\n",
    "\n",
    "print(f\"Train score = {roc_auc_score(y_train, y_train_proba)}\")\n",
    "print(f\"Test score = {roc_auc_score(y_val, y_pred_proba)}\")\n"
   ]
  },
  {
   "attachments": {},
   "cell_type": "markdown",
   "metadata": {},
   "source": [
    "7. Boosting (Gradient boosting classifier and XGB)"
   ]
  },
  {
   "cell_type": "code",
   "execution_count": 18,
   "metadata": {},
   "outputs": [
    {
     "name": "stderr",
     "output_type": "stream",
     "text": [
      "/Users/hayk/.pyenv/versions/3.10.6/lib/python3.10/site-packages/tqdm/auto.py:22: TqdmWarning: IProgress not found. Please update jupyter and ipywidgets. See https://ipywidgets.readthedocs.io/en/stable/user_install.html\n",
      "  from .autonotebook import tqdm as notebook_tqdm\n"
     ]
    }
   ],
   "source": [
    "import xgboost as xgb\n",
    "import optuna"
   ]
  },
  {
   "cell_type": "code",
   "execution_count": 106,
   "metadata": {},
   "outputs": [
    {
     "name": "stdout",
     "output_type": "stream",
     "text": [
      "Train score = 0.8640293910542141\n",
      "Test score = 0.8505737305610518\n"
     ]
    }
   ],
   "source": [
    "from sklearn.ensemble import GradientBoostingClassifier\n",
    "pipe = Pipeline([\n",
    "    ('scaler', StandardScaler()),\n",
    "    ('GradientBoostingClassifier', GradientBoostingClassifier())])\n",
    "\n",
    "pipe.fit(X_train, y_train)\n",
    "y_train_proba = pipe.predict_proba(X_train)[:,1]\n",
    "y_pred_proba = pipe.predict_proba(X_val)[:,1]\n",
    "\n",
    "print(f\"Train score = {roc_auc_score(y_train, y_train_proba)}\")\n",
    "print(f\"Test score = {roc_auc_score(y_val, y_pred_proba)}\")"
   ]
  },
  {
   "cell_type": "code",
   "execution_count": 19,
   "metadata": {},
   "outputs": [
    {
     "name": "stderr",
     "output_type": "stream",
     "text": [
      "\u001b[32m[I 2023-02-12 14:19:21,940]\u001b[0m A new study created in memory with name: xgboost classifier tuning\u001b[0m\n",
      "\u001b[32m[I 2023-02-12 14:19:23,031]\u001b[0m Trial 0 finished with value: 0.8431340239171653 and parameters: {'n_estimators': 100, 'learning_rate': 0.02674561562978562, 'max_depth': 3, 'min_child_weight': 5, 'subsample': 0.3850991334457522, 'colsample_bytree': 0.9919933959815498, 'eval_metric': 'logloss'}. Best is trial 0 with value: 0.8431340239171653.\u001b[0m\n",
      "\u001b[32m[I 2023-02-12 14:19:24,102]\u001b[0m Trial 1 finished with value: 0.8516817907924799 and parameters: {'n_estimators': 100, 'learning_rate': 0.06945649688918477, 'max_depth': 5, 'min_child_weight': 6, 'subsample': 0.45834320938551076, 'colsample_bytree': 0.33460458008847105, 'eval_metric': 'logloss'}. Best is trial 1 with value: 0.8516817907924799.\u001b[0m\n",
      "\u001b[32m[I 2023-02-12 14:19:25,956]\u001b[0m Trial 2 finished with value: 0.8515878817620416 and parameters: {'n_estimators': 100, 'learning_rate': 0.03174663950348449, 'max_depth': 8, 'min_child_weight': 5, 'subsample': 0.4477793131719098, 'colsample_bytree': 0.7402743512334612, 'eval_metric': 'logloss'}. Best is trial 1 with value: 0.8516817907924799.\u001b[0m\n",
      "\u001b[32m[I 2023-02-12 14:19:27,987]\u001b[0m Trial 3 finished with value: 0.8467825251688361 and parameters: {'n_estimators': 100, 'learning_rate': 0.0032639882893750532, 'max_depth': 7, 'min_child_weight': 5, 'subsample': 0.9693305264110436, 'colsample_bytree': 0.8524285045804303, 'eval_metric': 'logloss'}. Best is trial 1 with value: 0.8516817907924799.\u001b[0m\n",
      "\u001b[32m[I 2023-02-12 14:19:29,233]\u001b[0m Trial 4 finished with value: 0.8497398139489102 and parameters: {'n_estimators': 100, 'learning_rate': 0.028675191370386897, 'max_depth': 11, 'min_child_weight': 11, 'subsample': 0.2873123049571899, 'colsample_bytree': 0.37188296975713864, 'eval_metric': 'logloss'}. Best is trial 1 with value: 0.8516817907924799.\u001b[0m\n",
      "\u001b[32m[I 2023-02-12 14:19:31,103]\u001b[0m Trial 5 finished with value: 0.8472042369632046 and parameters: {'n_estimators': 100, 'learning_rate': 0.00220351231466568, 'max_depth': 6, 'min_child_weight': 6, 'subsample': 0.4245534684447133, 'colsample_bytree': 0.9023877183512329, 'eval_metric': 'logloss'}. Best is trial 1 with value: 0.8516817907924799.\u001b[0m\n",
      "\u001b[32m[I 2023-02-12 14:19:32,001]\u001b[0m Trial 6 finished with value: 0.8512714099876582 and parameters: {'n_estimators': 100, 'learning_rate': 0.037969600338257345, 'max_depth': 5, 'min_child_weight': 5, 'subsample': 0.19086246042885097, 'colsample_bytree': 0.8649531667659651, 'eval_metric': 'logloss'}. Best is trial 1 with value: 0.8516817907924799.\u001b[0m\n",
      "\u001b[32m[I 2023-02-12 14:19:33,054]\u001b[0m Trial 7 finished with value: 0.8246326294205728 and parameters: {'n_estimators': 100, 'learning_rate': 0.005511454486336491, 'max_depth': 3, 'min_child_weight': 3, 'subsample': 0.9577509272361443, 'colsample_bytree': 0.993375405056244, 'eval_metric': 'logloss'}. Best is trial 1 with value: 0.8516817907924799.\u001b[0m\n",
      "\u001b[32m[I 2023-02-12 14:19:33,940]\u001b[0m Trial 8 finished with value: 0.8434433433498545 and parameters: {'n_estimators': 100, 'learning_rate': 0.027788611498434885, 'max_depth': 7, 'min_child_weight': 11, 'subsample': 0.8748002059821117, 'colsample_bytree': 0.13160310301413625, 'eval_metric': 'logloss'}. Best is trial 1 with value: 0.8516817907924799.\u001b[0m\n",
      "\u001b[32m[I 2023-02-12 14:19:35,439]\u001b[0m Trial 9 finished with value: 0.8473742902433967 and parameters: {'n_estimators': 100, 'learning_rate': 0.004171698729520449, 'max_depth': 11, 'min_child_weight': 8, 'subsample': 0.8868866973213312, 'colsample_bytree': 0.22752182727607245, 'eval_metric': 'logloss'}. Best is trial 1 with value: 0.8516817907924799.\u001b[0m\n",
      "\u001b[32m[I 2023-02-12 14:19:37,686]\u001b[0m Trial 10 finished with value: 0.8164359795110947 and parameters: {'n_estimators': 100, 'learning_rate': 0.31589733448304436, 'max_depth': 9, 'min_child_weight': 8, 'subsample': 0.6692763664014526, 'colsample_bytree': 0.5244773054427514, 'eval_metric': 'logloss'}. Best is trial 1 with value: 0.8516817907924799.\u001b[0m\n",
      "\u001b[32m[I 2023-02-12 14:19:39,914]\u001b[0m Trial 11 finished with value: 0.8316433724367809 and parameters: {'n_estimators': 100, 'learning_rate': 0.16755776897124652, 'max_depth': 9, 'min_child_weight': 3, 'subsample': 0.6024905685163209, 'colsample_bytree': 0.637570805262457, 'eval_metric': 'logloss'}. Best is trial 1 with value: 0.8516817907924799.\u001b[0m\n",
      "\u001b[32m[I 2023-02-12 14:19:41,199]\u001b[0m Trial 12 finished with value: 0.849874448213973 and parameters: {'n_estimators': 100, 'learning_rate': 0.11075275150260663, 'max_depth': 5, 'min_child_weight': 7, 'subsample': 0.4869444507310109, 'colsample_bytree': 0.6578007143374527, 'eval_metric': 'logloss'}. Best is trial 1 with value: 0.8516817907924799.\u001b[0m\n",
      "\u001b[32m[I 2023-02-12 14:19:43,227]\u001b[0m Trial 13 finished with value: 0.8464858964444393 and parameters: {'n_estimators': 100, 'learning_rate': 0.08038209868101041, 'max_depth': 9, 'min_child_weight': 9, 'subsample': 0.7288175262541234, 'colsample_bytree': 0.4397838949062501, 'eval_metric': 'logloss'}. Best is trial 1 with value: 0.8516817907924799.\u001b[0m\n",
      "\u001b[32m[I 2023-02-12 14:19:43,979]\u001b[0m Trial 14 finished with value: 0.850432728832595 and parameters: {'n_estimators': 100, 'learning_rate': 0.01056317407982479, 'max_depth': 5, 'min_child_weight': 4, 'subsample': 0.12817655186165777, 'colsample_bytree': 0.6864621890735882, 'eval_metric': 'logloss'}. Best is trial 1 with value: 0.8516817907924799.\u001b[0m\n",
      "\u001b[32m[I 2023-02-12 14:19:44,910]\u001b[0m Trial 15 finished with value: 0.8470962775057284 and parameters: {'n_estimators': 100, 'learning_rate': 0.012328182467511163, 'max_depth': 8, 'min_child_weight': 6, 'subsample': 0.31481329940058167, 'colsample_bytree': 0.2688388430377992, 'eval_metric': 'logloss'}. Best is trial 1 with value: 0.8516817907924799.\u001b[0m\n",
      "\u001b[32m[I 2023-02-12 14:19:46,145]\u001b[0m Trial 16 finished with value: 0.8521878493675716 and parameters: {'n_estimators': 100, 'learning_rate': 0.06245797494787239, 'max_depth': 4, 'min_child_weight': 7, 'subsample': 0.5323655694940873, 'colsample_bytree': 0.7554913949473725, 'eval_metric': 'logloss'}. Best is trial 16 with value: 0.8521878493675716.\u001b[0m\n",
      "\u001b[32m[I 2023-02-12 14:19:47,157]\u001b[0m Trial 17 finished with value: 0.8373446178639805 and parameters: {'n_estimators': 100, 'learning_rate': 0.47045017456805405, 'max_depth': 4, 'min_child_weight': 9, 'subsample': 0.6119080851551248, 'colsample_bytree': 0.48523153273413605, 'eval_metric': 'logloss'}. Best is trial 16 with value: 0.8521878493675716.\u001b[0m\n",
      "\u001b[32m[I 2023-02-12 14:19:48,134]\u001b[0m Trial 18 finished with value: 0.8521504736840035 and parameters: {'n_estimators': 100, 'learning_rate': 0.06660935101480325, 'max_depth': 4, 'min_child_weight': 7, 'subsample': 0.5398814227449134, 'colsample_bytree': 0.34898987156328504, 'eval_metric': 'logloss'}. Best is trial 16 with value: 0.8521878493675716.\u001b[0m\n",
      "\u001b[32m[I 2023-02-12 14:19:49,230]\u001b[0m Trial 19 finished with value: 0.8492931518682911 and parameters: {'n_estimators': 100, 'learning_rate': 0.17392171923511598, 'max_depth': 4, 'min_child_weight': 8, 'subsample': 0.7426226984425081, 'colsample_bytree': 0.5886025847586603, 'eval_metric': 'logloss'}. Best is trial 16 with value: 0.8521878493675716.\u001b[0m\n",
      "\u001b[32m[I 2023-02-12 14:19:50,314]\u001b[0m Trial 20 finished with value: 0.8455803016506189 and parameters: {'n_estimators': 100, 'learning_rate': 0.01211039737571331, 'max_depth': 4, 'min_child_weight': 10, 'subsample': 0.5546858256673002, 'colsample_bytree': 0.7836405841017209, 'eval_metric': 'logloss'}. Best is trial 16 with value: 0.8521878493675716.\u001b[0m\n",
      "\u001b[32m[I 2023-02-12 14:19:51,638]\u001b[0m Trial 21 finished with value: 0.8512016884744182 and parameters: {'n_estimators': 100, 'learning_rate': 0.06748235311947938, 'max_depth': 6, 'min_child_weight': 7, 'subsample': 0.5009671663922152, 'colsample_bytree': 0.36794741806479947, 'eval_metric': 'logloss'}. Best is trial 16 with value: 0.8521878493675716.\u001b[0m\n",
      "\u001b[32m[I 2023-02-12 14:19:52,320]\u001b[0m Trial 22 finished with value: 0.8502772013282706 and parameters: {'n_estimators': 100, 'learning_rate': 0.05063196814007132, 'max_depth': 3, 'min_child_weight': 7, 'subsample': 0.35680833706318216, 'colsample_bytree': 0.3199712152108382, 'eval_metric': 'logloss'}. Best is trial 16 with value: 0.8521878493675716.\u001b[0m\n",
      "\u001b[32m[I 2023-02-12 14:19:53,138]\u001b[0m Trial 23 finished with value: 0.8493466120297037 and parameters: {'n_estimators': 100, 'learning_rate': 0.12600974003288595, 'max_depth': 4, 'min_child_weight': 6, 'subsample': 0.5409542432554838, 'colsample_bytree': 0.10068130877442372, 'eval_metric': 'logloss'}. Best is trial 16 with value: 0.8521878493675716.\u001b[0m\n",
      "\u001b[32m[I 2023-02-12 14:19:54,143]\u001b[0m Trial 24 finished with value: 0.8392052879484126 and parameters: {'n_estimators': 100, 'learning_rate': 0.23752740458275662, 'max_depth': 6, 'min_child_weight': 7, 'subsample': 0.24883230032280165, 'colsample_bytree': 0.21822329049363182, 'eval_metric': 'logloss'}. Best is trial 16 with value: 0.8521878493675716.\u001b[0m\n",
      "\u001b[32m[I 2023-02-12 14:19:55,468]\u001b[0m Trial 25 finished with value: 0.8530048966235686 and parameters: {'n_estimators': 100, 'learning_rate': 0.06775798038449342, 'max_depth': 5, 'min_child_weight': 6, 'subsample': 0.6727176542768522, 'colsample_bytree': 0.42637391756109944, 'eval_metric': 'logloss'}. Best is trial 25 with value: 0.8530048966235686.\u001b[0m\n",
      "\u001b[32m[I 2023-02-12 14:19:56,849]\u001b[0m Trial 26 finished with value: 0.8500530909369726 and parameters: {'n_estimators': 100, 'learning_rate': 0.017172133505237473, 'max_depth': 4, 'min_child_weight': 9, 'subsample': 0.7665821990242905, 'colsample_bytree': 0.4370751374802908, 'eval_metric': 'logloss'}. Best is trial 25 with value: 0.8530048966235686.\u001b[0m\n",
      "\u001b[32m[I 2023-02-12 14:19:58,166]\u001b[0m Trial 27 finished with value: 0.850240113064925 and parameters: {'n_estimators': 100, 'learning_rate': 0.049375841665311705, 'max_depth': 3, 'min_child_weight': 8, 'subsample': 0.6540175339311075, 'colsample_bytree': 0.5737090675941001, 'eval_metric': 'logloss'}. Best is trial 25 with value: 0.8530048966235686.\u001b[0m\n",
      "\u001b[32m[I 2023-02-12 14:20:00,161]\u001b[0m Trial 28 finished with value: 0.84997840589758 and parameters: {'n_estimators': 100, 'learning_rate': 0.1016005717455132, 'max_depth': 6, 'min_child_weight': 4, 'subsample': 0.8343646765855723, 'colsample_bytree': 0.4273923344802043, 'eval_metric': 'logloss'}. Best is trial 25 with value: 0.8530048966235686.\u001b[0m\n",
      "\u001b[32m[I 2023-02-12 14:20:01,412]\u001b[0m Trial 29 finished with value: 0.8438691453550835 and parameters: {'n_estimators': 100, 'learning_rate': 0.00106836752115617, 'max_depth': 3, 'min_child_weight': 4, 'subsample': 0.6779586700075296, 'colsample_bytree': 0.5213588489147127, 'eval_metric': 'logloss'}. Best is trial 25 with value: 0.8530048966235686.\u001b[0m\n",
      "\u001b[32m[I 2023-02-12 14:20:02,726]\u001b[0m Trial 30 finished with value: 0.8498314457268152 and parameters: {'n_estimators': 100, 'learning_rate': 0.018911620069663345, 'max_depth': 5, 'min_child_weight': 7, 'subsample': 0.39981465053889387, 'colsample_bytree': 0.7624460285405192, 'eval_metric': 'logloss'}. Best is trial 25 with value: 0.8530048966235686.\u001b[0m\n",
      "\u001b[32m[I 2023-02-12 14:20:03,956]\u001b[0m Trial 31 finished with value: 0.8522310066194645 and parameters: {'n_estimators': 100, 'learning_rate': 0.061723966379292894, 'max_depth': 5, 'min_child_weight': 6, 'subsample': 0.550887874890344, 'colsample_bytree': 0.32347813477845, 'eval_metric': 'logloss'}. Best is trial 25 with value: 0.8530048966235686.\u001b[0m\n",
      "\u001b[32m[I 2023-02-12 14:20:05,085]\u001b[0m Trial 32 finished with value: 0.8518264294922155 and parameters: {'n_estimators': 100, 'learning_rate': 0.058433803806051766, 'max_depth': 4, 'min_child_weight': 6, 'subsample': 0.5665054467579277, 'colsample_bytree': 0.30092531334965733, 'eval_metric': 'logloss'}. Best is trial 25 with value: 0.8530048966235686.\u001b[0m\n",
      "\u001b[32m[I 2023-02-12 14:20:06,490]\u001b[0m Trial 33 finished with value: 0.8512708904203325 and parameters: {'n_estimators': 100, 'learning_rate': 0.03802640500984401, 'max_depth': 5, 'min_child_weight': 5, 'subsample': 0.5041737692876546, 'colsample_bytree': 0.3951818951720862, 'eval_metric': 'logloss'}. Best is trial 25 with value: 0.8530048966235686.\u001b[0m\n",
      "\u001b[32m[I 2023-02-12 14:20:07,657]\u001b[0m Trial 34 finished with value: 0.8474982567963497 and parameters: {'n_estimators': 100, 'learning_rate': 0.0890536322745136, 'max_depth': 5, 'min_child_weight': 6, 'subsample': 0.6411620950110499, 'colsample_bytree': 0.19891690386997568, 'eval_metric': 'logloss'}. Best is trial 25 with value: 0.8530048966235686.\u001b[0m\n",
      "\u001b[32m[I 2023-02-12 14:20:09,196]\u001b[0m Trial 35 finished with value: 0.8444339150379633 and parameters: {'n_estimators': 100, 'learning_rate': 0.15358049764841603, 'max_depth': 6, 'min_child_weight': 6, 'subsample': 0.45392384130745755, 'colsample_bytree': 0.4876864553991059, 'eval_metric': 'logloss'}. Best is trial 25 with value: 0.8530048966235686.\u001b[0m\n",
      "\u001b[32m[I 2023-02-12 14:20:11,389]\u001b[0m Trial 36 finished with value: 0.8514693872479431 and parameters: {'n_estimators': 100, 'learning_rate': 0.04641129946244053, 'max_depth': 7, 'min_child_weight': 5, 'subsample': 0.7084718327906998, 'colsample_bytree': 0.3588776541073736, 'eval_metric': 'logloss'}. Best is trial 25 with value: 0.8530048966235686.\u001b[0m\n",
      "\u001b[32m[I 2023-02-12 14:20:12,429]\u001b[0m Trial 37 finished with value: 0.8481373135521597 and parameters: {'n_estimators': 100, 'learning_rate': 0.02309712956485193, 'max_depth': 3, 'min_child_weight': 7, 'subsample': 0.7879575970100835, 'colsample_bytree': 0.29833491092297476, 'eval_metric': 'logloss'}. Best is trial 25 with value: 0.8530048966235686.\u001b[0m\n",
      "\u001b[32m[I 2023-02-12 14:20:13,847]\u001b[0m Trial 38 finished with value: 0.8517058014356949 and parameters: {'n_estimators': 100, 'learning_rate': 0.08017290494719251, 'max_depth': 4, 'min_child_weight': 6, 'subsample': 0.3792148318107073, 'colsample_bytree': 0.91710010618291, 'eval_metric': 'logloss'}. Best is trial 25 with value: 0.8530048966235686.\u001b[0m\n",
      "\u001b[32m[I 2023-02-12 14:20:15,631]\u001b[0m Trial 39 finished with value: 0.851595664217301 and parameters: {'n_estimators': 100, 'learning_rate': 0.036279005834243816, 'max_depth': 5, 'min_child_weight': 5, 'subsample': 0.5825705456268655, 'colsample_bytree': 0.399550662977973, 'eval_metric': 'logloss'}. Best is trial 25 with value: 0.8530048966235686.\u001b[0m\n",
      "\u001b[32m[I 2023-02-12 14:20:16,993]\u001b[0m Trial 40 finished with value: 0.8392043261961291 and parameters: {'n_estimators': 100, 'learning_rate': 0.21935315582774434, 'max_depth': 7, 'min_child_weight': 8, 'subsample': 0.5344988386471409, 'colsample_bytree': 0.25542651633371954, 'eval_metric': 'logloss'}. Best is trial 25 with value: 0.8530048966235686.\u001b[0m\n",
      "\u001b[32m[I 2023-02-12 14:20:17,720]\u001b[0m Trial 41 finished with value: 0.8473474606710749 and parameters: {'n_estimators': 100, 'learning_rate': 0.07800005042173506, 'max_depth': 4, 'min_child_weight': 6, 'subsample': 0.5822763644288368, 'colsample_bytree': 0.17460488045565714, 'eval_metric': 'logloss'}. Best is trial 25 with value: 0.8530048966235686.\u001b[0m\n",
      "\u001b[32m[I 2023-02-12 14:20:18,630]\u001b[0m Trial 42 finished with value: 0.851899909577598 and parameters: {'n_estimators': 100, 'learning_rate': 0.0545547022250765, 'max_depth': 4, 'min_child_weight': 6, 'subsample': 0.4433683754118964, 'colsample_bytree': 0.30771340232150424, 'eval_metric': 'logloss'}. Best is trial 25 with value: 0.8530048966235686.\u001b[0m\n",
      "\u001b[32m[I 2023-02-12 14:20:19,420]\u001b[0m Trial 43 finished with value: 0.8510729573785436 and parameters: {'n_estimators': 100, 'learning_rate': 0.06129915268044226, 'max_depth': 3, 'min_child_weight': 7, 'subsample': 0.43181203277624836, 'colsample_bytree': 0.33899332049813524, 'eval_metric': 'logloss'}. Best is trial 25 with value: 0.8530048966235686.\u001b[0m\n",
      "\u001b[32m[I 2023-02-12 14:20:20,884]\u001b[0m Trial 44 finished with value: 0.852694394346117 and parameters: {'n_estimators': 100, 'learning_rate': 0.03300746987898655, 'max_depth': 6, 'min_child_weight': 5, 'subsample': 0.49469476993147, 'colsample_bytree': 0.47653568670063984, 'eval_metric': 'logloss'}. Best is trial 25 with value: 0.8530048966235686.\u001b[0m\n",
      "\u001b[32m[I 2023-02-12 14:20:22,364]\u001b[0m Trial 45 finished with value: 0.852692913026508 and parameters: {'n_estimators': 100, 'learning_rate': 0.035187010552241195, 'max_depth': 6, 'min_child_weight': 5, 'subsample': 0.48772113146145074, 'colsample_bytree': 0.471439376993939, 'eval_metric': 'logloss'}. Best is trial 25 with value: 0.8530048966235686.\u001b[0m\n",
      "\u001b[32m[I 2023-02-12 14:20:24,087]\u001b[0m Trial 46 finished with value: 0.8509854489753712 and parameters: {'n_estimators': 100, 'learning_rate': 0.0075652696535943, 'max_depth': 6, 'min_child_weight': 4, 'subsample': 0.6193174695655752, 'colsample_bytree': 0.4768431663202155, 'eval_metric': 'logloss'}. Best is trial 25 with value: 0.8530048966235686.\u001b[0m\n",
      "\u001b[32m[I 2023-02-12 14:20:26,091]\u001b[0m Trial 47 finished with value: 0.8517980743817889 and parameters: {'n_estimators': 100, 'learning_rate': 0.027447653196824864, 'max_depth': 8, 'min_child_weight': 5, 'subsample': 0.4837971446993754, 'colsample_bytree': 0.6212237258505542, 'eval_metric': 'logloss'}. Best is trial 25 with value: 0.8530048966235686.\u001b[0m\n",
      "\u001b[32m[I 2023-02-12 14:20:27,811]\u001b[0m Trial 48 finished with value: 0.851454297686254 and parameters: {'n_estimators': 100, 'learning_rate': 0.03729110598447116, 'max_depth': 7, 'min_child_weight': 5, 'subsample': 0.33753995995738795, 'colsample_bytree': 0.7207691016774653, 'eval_metric': 'logloss'}. Best is trial 25 with value: 0.8530048966235686.\u001b[0m\n",
      "\u001b[32m[I 2023-02-12 14:20:29,034]\u001b[0m Trial 49 finished with value: 0.8515234775229206 and parameters: {'n_estimators': 100, 'learning_rate': 0.0158323953516541, 'max_depth': 5, 'min_child_weight': 4, 'subsample': 0.40016642257031493, 'colsample_bytree': 0.5394508062639345, 'eval_metric': 'logloss'}. Best is trial 25 with value: 0.8530048966235686.\u001b[0m\n"
     ]
    }
   ],
   "source": [
    "def objective(trial):\n",
    "    trial.suggest_categorical('n_estimators', [100])\n",
    "    trial.suggest_float('learning_rate', 0.001, 0.5, log=True)\n",
    "    trial.suggest_int('max_depth', 3, 11)\n",
    "    trial.suggest_int('min_child_weight', 3, 11)\n",
    "    trial.suggest_float('subsample', 0.1, 1.)\n",
    "    trial.suggest_float('colsample_bytree', 0.1, 1.)\n",
    "    trial.suggest_categorical('eval_metric', ['logloss'])\n",
    "    \n",
    "    model = xgb.XGBClassifier(**trial.params)\n",
    "    model.fit(X_train, y_train)\n",
    "    \n",
    "    y_pred_proba = model.predict_proba(X_val)[:,1]\n",
    "\n",
    "    return roc_auc_score(y_val, y_pred_proba)\n",
    "\n",
    "\n",
    "study = optuna.create_study(\n",
    "    study_name='xgboost classifier tuning',\n",
    "    direction='maximize'\n",
    ")\n",
    "\n",
    "study.optimize(objective, n_trials=50)"
   ]
  },
  {
   "cell_type": "code",
   "execution_count": 27,
   "metadata": {},
   "outputs": [],
   "source": [
    "from sklearn.ensemble import RandomForestClassifier\n",
    "from sklearn.model_selection import GridSearchCV"
   ]
  },
  {
   "cell_type": "code",
   "execution_count": 41,
   "metadata": {},
   "outputs": [
    {
     "data": {
      "text/plain": [
       "0.8111940315996868"
      ]
     },
     "execution_count": 41,
     "metadata": {},
     "output_type": "execute_result"
    }
   ],
   "source": [
    "X_train = StandardScaler().fit_transform(X_train)\n",
    "X_val = StandardScaler().fit_transform(X_val)\n",
    "model_rf = RandomForestClassifier()\n",
    "model_rf.fit(X_train, y_train)\n",
    "\n",
    "y_pred_proba = model_rf.predict_proba(X_val)[:,1]\n",
    "roc_auc_score(y_val, y_pred_proba)\n"
   ]
  },
  {
   "cell_type": "code",
   "execution_count": 35,
   "metadata": {},
   "outputs": [
    {
     "name": "stdout",
     "output_type": "stream",
     "text": [
      "Fitting 2 folds for each of 16 candidates, totalling 32 fits\n"
     ]
    },
    {
     "data": {
      "text/html": [
       "<style>#sk-container-id-3 {color: black;background-color: white;}#sk-container-id-3 pre{padding: 0;}#sk-container-id-3 div.sk-toggleable {background-color: white;}#sk-container-id-3 label.sk-toggleable__label {cursor: pointer;display: block;width: 100%;margin-bottom: 0;padding: 0.3em;box-sizing: border-box;text-align: center;}#sk-container-id-3 label.sk-toggleable__label-arrow:before {content: \"▸\";float: left;margin-right: 0.25em;color: #696969;}#sk-container-id-3 label.sk-toggleable__label-arrow:hover:before {color: black;}#sk-container-id-3 div.sk-estimator:hover label.sk-toggleable__label-arrow:before {color: black;}#sk-container-id-3 div.sk-toggleable__content {max-height: 0;max-width: 0;overflow: hidden;text-align: left;background-color: #f0f8ff;}#sk-container-id-3 div.sk-toggleable__content pre {margin: 0.2em;color: black;border-radius: 0.25em;background-color: #f0f8ff;}#sk-container-id-3 input.sk-toggleable__control:checked~div.sk-toggleable__content {max-height: 200px;max-width: 100%;overflow: auto;}#sk-container-id-3 input.sk-toggleable__control:checked~label.sk-toggleable__label-arrow:before {content: \"▾\";}#sk-container-id-3 div.sk-estimator input.sk-toggleable__control:checked~label.sk-toggleable__label {background-color: #d4ebff;}#sk-container-id-3 div.sk-label input.sk-toggleable__control:checked~label.sk-toggleable__label {background-color: #d4ebff;}#sk-container-id-3 input.sk-hidden--visually {border: 0;clip: rect(1px 1px 1px 1px);clip: rect(1px, 1px, 1px, 1px);height: 1px;margin: -1px;overflow: hidden;padding: 0;position: absolute;width: 1px;}#sk-container-id-3 div.sk-estimator {font-family: monospace;background-color: #f0f8ff;border: 1px dotted black;border-radius: 0.25em;box-sizing: border-box;margin-bottom: 0.5em;}#sk-container-id-3 div.sk-estimator:hover {background-color: #d4ebff;}#sk-container-id-3 div.sk-parallel-item::after {content: \"\";width: 100%;border-bottom: 1px solid gray;flex-grow: 1;}#sk-container-id-3 div.sk-label:hover label.sk-toggleable__label {background-color: #d4ebff;}#sk-container-id-3 div.sk-serial::before {content: \"\";position: absolute;border-left: 1px solid gray;box-sizing: border-box;top: 0;bottom: 0;left: 50%;z-index: 0;}#sk-container-id-3 div.sk-serial {display: flex;flex-direction: column;align-items: center;background-color: white;padding-right: 0.2em;padding-left: 0.2em;position: relative;}#sk-container-id-3 div.sk-item {position: relative;z-index: 1;}#sk-container-id-3 div.sk-parallel {display: flex;align-items: stretch;justify-content: center;background-color: white;position: relative;}#sk-container-id-3 div.sk-item::before, #sk-container-id-3 div.sk-parallel-item::before {content: \"\";position: absolute;border-left: 1px solid gray;box-sizing: border-box;top: 0;bottom: 0;left: 50%;z-index: -1;}#sk-container-id-3 div.sk-parallel-item {display: flex;flex-direction: column;z-index: 1;position: relative;background-color: white;}#sk-container-id-3 div.sk-parallel-item:first-child::after {align-self: flex-end;width: 50%;}#sk-container-id-3 div.sk-parallel-item:last-child::after {align-self: flex-start;width: 50%;}#sk-container-id-3 div.sk-parallel-item:only-child::after {width: 0;}#sk-container-id-3 div.sk-dashed-wrapped {border: 1px dashed gray;margin: 0 0.4em 0.5em 0.4em;box-sizing: border-box;padding-bottom: 0.4em;background-color: white;}#sk-container-id-3 div.sk-label label {font-family: monospace;font-weight: bold;display: inline-block;line-height: 1.2em;}#sk-container-id-3 div.sk-label-container {text-align: center;}#sk-container-id-3 div.sk-container {/* jupyter's `normalize.less` sets `[hidden] { display: none; }` but bootstrap.min.css set `[hidden] { display: none !important; }` so we also need the `!important` here to be able to override the default hidden behavior on the sphinx rendered scikit-learn.org. See: https://github.com/scikit-learn/scikit-learn/issues/21755 */display: inline-block !important;position: relative;}#sk-container-id-3 div.sk-text-repr-fallback {display: none;}</style><div id=\"sk-container-id-3\" class=\"sk-top-container\"><div class=\"sk-text-repr-fallback\"><pre>GridSearchCV(cv=2,\n",
       "             estimator=RandomForestClassifier(max_depth=10, n_estimators=800),\n",
       "             param_grid={&#x27;max_depth&#x27;: [10, 43, 76, 110],\n",
       "                         &#x27;n_estimators&#x27;: [200, 400, 600, 800]},\n",
       "             scoring=&#x27;roc_auc&#x27;, verbose=1)</pre><b>In a Jupyter environment, please rerun this cell to show the HTML representation or trust the notebook. <br />On GitHub, the HTML representation is unable to render, please try loading this page with nbviewer.org.</b></div><div class=\"sk-container\" hidden><div class=\"sk-item sk-dashed-wrapped\"><div class=\"sk-label-container\"><div class=\"sk-label sk-toggleable\"><input class=\"sk-toggleable__control sk-hidden--visually\" id=\"sk-estimator-id-3\" type=\"checkbox\" ><label for=\"sk-estimator-id-3\" class=\"sk-toggleable__label sk-toggleable__label-arrow\">GridSearchCV</label><div class=\"sk-toggleable__content\"><pre>GridSearchCV(cv=2,\n",
       "             estimator=RandomForestClassifier(max_depth=10, n_estimators=800),\n",
       "             param_grid={&#x27;max_depth&#x27;: [10, 43, 76, 110],\n",
       "                         &#x27;n_estimators&#x27;: [200, 400, 600, 800]},\n",
       "             scoring=&#x27;roc_auc&#x27;, verbose=1)</pre></div></div></div><div class=\"sk-parallel\"><div class=\"sk-parallel-item\"><div class=\"sk-item\"><div class=\"sk-label-container\"><div class=\"sk-label sk-toggleable\"><input class=\"sk-toggleable__control sk-hidden--visually\" id=\"sk-estimator-id-4\" type=\"checkbox\" ><label for=\"sk-estimator-id-4\" class=\"sk-toggleable__label sk-toggleable__label-arrow\">estimator: RandomForestClassifier</label><div class=\"sk-toggleable__content\"><pre>RandomForestClassifier(max_depth=10, n_estimators=800)</pre></div></div></div><div class=\"sk-serial\"><div class=\"sk-item\"><div class=\"sk-estimator sk-toggleable\"><input class=\"sk-toggleable__control sk-hidden--visually\" id=\"sk-estimator-id-5\" type=\"checkbox\" ><label for=\"sk-estimator-id-5\" class=\"sk-toggleable__label sk-toggleable__label-arrow\">RandomForestClassifier</label><div class=\"sk-toggleable__content\"><pre>RandomForestClassifier(max_depth=10, n_estimators=800)</pre></div></div></div></div></div></div></div></div></div></div>"
      ],
      "text/plain": [
       "GridSearchCV(cv=2,\n",
       "             estimator=RandomForestClassifier(max_depth=10, n_estimators=800),\n",
       "             param_grid={'max_depth': [10, 43, 76, 110],\n",
       "                         'n_estimators': [200, 400, 600, 800]},\n",
       "             scoring='roc_auc', verbose=1)"
      ]
     },
     "execution_count": 35,
     "metadata": {},
     "output_type": "execute_result"
    }
   ],
   "source": [
    "n_estimators_rf = [int(x) for x in np.linspace(200, 1000, 5)]\n",
    "max_depth_rf = [int(x) for x in np.linspace(10, 110, 4)]\n",
    "\n",
    "params_rf = dict(n_estimators = n_estimators_rf, max_depth = max_depth_rf)\n",
    "grid_rf = GridSearchCV(model_rf, params_rf, cv=2, scoring='roc_auc', verbose=1)\n",
    "grid_rf.fit(X_train, y_train)"
   ]
  },
  {
   "cell_type": "code",
   "execution_count": 36,
   "metadata": {},
   "outputs": [
    {
     "data": {
      "text/plain": [
       "{'max_depth': 10, 'n_estimators': 800}"
      ]
     },
     "execution_count": 36,
     "metadata": {},
     "output_type": "execute_result"
    }
   ],
   "source": [
    "grid_rf.best_params_"
   ]
  },
  {
   "cell_type": "code",
   "execution_count": 42,
   "metadata": {},
   "outputs": [
    {
     "data": {
      "text/plain": [
       "0.8422742947581052"
      ]
     },
     "execution_count": 42,
     "metadata": {},
     "output_type": "execute_result"
    }
   ],
   "source": [
    "X_train = StandardScaler().fit_transform(X_train)\n",
    "X_val = StandardScaler().fit_transform(X_val)\n",
    "model_rf = RandomForestClassifier(max_depth=10, n_estimators=800)\n",
    "model_rf.fit(X_train, y_train)\n",
    "\n",
    "y_pred_proba = model_rf.predict_proba(X_val)[:,1]\n",
    "roc_auc_score(y_val, y_pred_proba)"
   ]
  },
  {
   "cell_type": "markdown",
   "metadata": {},
   "source": [
    "10. Neural Network"
   ]
  },
  {
   "cell_type": "code",
   "execution_count": 111,
   "metadata": {},
   "outputs": [],
   "source": [
    "import tensorflow as tf\n",
    "from tensorflow import keras\n",
    "from keras.layers import Dense\n",
    "from keras import metrics\n",
    "\n",
    "from sklearn.metrics import roc_auc_score\n",
    "from keras.callbacks import Callback"
   ]
  },
  {
   "cell_type": "code",
   "execution_count": 126,
   "metadata": {},
   "outputs": [],
   "source": [
    "class RocCallback(Callback):\n",
    "    def __init__(self, training_data, validation_data):\n",
    "        self.x = training_data[0]\n",
    "        self.y = training_data[1]\n",
    "        self.x_val = validation_data[0]\n",
    "        self.y_val = validation_data[1]\n",
    "\n",
    "\n",
    "    def on_train_begin(self, logs={}):\n",
    "        return\n",
    "\n",
    "    def on_train_end(self, logs={}):\n",
    "        return\n",
    "\n",
    "    def on_epoch_begin(self, epoch, logs={}):\n",
    "        return\n",
    "\n",
    "    def on_epoch_end(self, epoch, logs={}):\n",
    "        # predict_prob=self.model.predict([testa, testb])\n",
    "        # predict_classes = np.argmax(predict_prob,axis=1)\n",
    "\n",
    "        y_pred_train = self.model.predict_proba(self.x)\n",
    "        roc_train = roc_auc_score(self.y, y_pred_train)\n",
    "        y_pred_val = self.model.predict_proba(self.x_val)\n",
    "        roc_val = roc_auc_score(self.y_val, y_pred_val)\n",
    "        print('\\rroc-auc_train: %s - roc-auc_val: %s' % (str(round(roc_train,4)), str(round(roc_val, 4))),end=100*' \\n')\n",
    "        return\n",
    "\n",
    "    def on_batch_begin(self, batch, logs={}):\n",
    "        return\n",
    "\n",
    "    def on_batch_end(self, batch, logs={}):\n",
    "        return\n",
    "\n",
    "roc = RocCallback(training_data=(X_train, y_train),\n",
    "                  validation_data=(X_test, y_test))"
   ]
  },
  {
   "cell_type": "code",
   "execution_count": 130,
   "metadata": {},
   "outputs": [
    {
     "name": "stdout",
     "output_type": "stream",
     "text": [
      "Epoch 1/10\n",
      "5298/5298 [==============================] - 11s 2ms/step - loss: 3.7121 - accuracy: 0.9300 - auc: 0.5603\n",
      "Epoch 2/10\n",
      "5298/5298 [==============================] - 8s 2ms/step - loss: 0.2535 - accuracy: 0.9302 - auc: 0.6090\n",
      "Epoch 3/10\n",
      "5298/5298 [==============================] - 10s 2ms/step - loss: 0.2497 - accuracy: 0.9302 - auc: 0.6203\n",
      "Epoch 4/10\n",
      "5298/5298 [==============================] - 10s 2ms/step - loss: 0.2460 - accuracy: 0.9302 - auc: 0.6402\n",
      "Epoch 5/10\n",
      "5298/5298 [==============================] - 9s 2ms/step - loss: 0.2432 - accuracy: 0.9302 - auc: 0.6594\n",
      "Epoch 6/10\n",
      "5298/5298 [==============================] - 8s 2ms/step - loss: 0.2417 - accuracy: 0.9302 - auc: 0.6733\n",
      "Epoch 7/10\n",
      "5298/5298 [==============================] - 8s 2ms/step - loss: 0.2407 - accuracy: 0.9302 - auc: 0.6942\n",
      "Epoch 8/10\n",
      "5298/5298 [==============================] - 8s 2ms/step - loss: 0.2241 - accuracy: 0.9302 - auc: 0.7468\n",
      "Epoch 9/10\n",
      "5298/5298 [==============================] - 8s 2ms/step - loss: 0.2206 - accuracy: 0.9302 - auc: 0.7589\n",
      "Epoch 10/10\n",
      "5298/5298 [==============================] - 8s 2ms/step - loss: 0.2506 - accuracy: 0.9302 - auc: 0.6543\n"
     ]
    },
    {
     "data": {
      "text/plain": [
       "<keras.callbacks.History at 0x14cfc91b0>"
      ]
     },
     "execution_count": 130,
     "metadata": {},
     "output_type": "execute_result"
    }
   ],
   "source": [
    "model = keras.Sequential(name=\"nn\")\n",
    "model.add(Dense(10, input_shape = (10,), activation=\"relu\", name=\"layer1\"))\n",
    "model.add(Dense(6, activation=\"relu\", name=\"layer2\"))\n",
    "model.add(Dense(3, activation=\"relu\", name=\"layer3\"))\n",
    "model.add(Dense(1, activation='sigmoid', name=\"layer4\"))\n",
    "model.compile(loss='binary_crossentropy', optimizer='adam', metrics=['accuracy', 'AUC'])\n",
    "model.fit(X_train, y_train, epochs=10, batch_size=10)\n",
    "# model.fit(X_train, y_train, \n",
    "#           validation_data=(X_val, y_val),\n",
    "#           callbacks=[roc])"
   ]
  }
 ],
 "metadata": {
  "kernelspec": {
   "display_name": "Python 3",
   "language": "python",
   "name": "python3"
  },
  "language_info": {
   "codemirror_mode": {
    "name": "ipython",
    "version": 3
   },
   "file_extension": ".py",
   "mimetype": "text/x-python",
   "name": "python",
   "nbconvert_exporter": "python",
   "pygments_lexer": "ipython3",
   "version": "3.10.6"
  },
  "orig_nbformat": 4,
  "vscode": {
   "interpreter": {
    "hash": "4b047b1f85702c12822b9cca8151d3387ea59ef1bb555aceae424351f7a60c78"
   }
  }
 },
 "nbformat": 4,
 "nbformat_minor": 2
}
